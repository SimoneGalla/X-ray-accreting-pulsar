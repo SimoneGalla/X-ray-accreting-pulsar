{
 "cells": [
  {
   "cell_type": "markdown",
   "id": "fbad3a92-94e5-4baa-a828-ebde580962f8",
   "metadata": {},
   "source": [
    "# Database generator for pulse profiles in X-ray emitting pulsars:\n",
    "\n",
    "    This notebook defines the parameters describing an X-ray emitting pulsar, considering an emitting hotspot on the surface. There will be only one hotspot, and its location is defined with respect to the rotation axis. The angle between the rotation axis and the hotspot is used to locate the hotspot efficiently. The beam pattern emission is then defined according to 3 parameters and interpolated with the intrinsic angles of the hotspot to determine which pulse profile is seen.\n",
    "\n",
    "    Once this is done, the code simulates the data for different combinations of parameters and stores the parameters and the resulting pulse profile in a list of dictionaries. This list is then converted into a data frame using pandas and stored in a parquet file.\n",
    "\n",
    "    Finally, two examples of reading and using the data are given to help the reader understand how to handle the data.\n",
    "\n",
    "    The ultimate goal is to create a database that can be used in the future to train a machine learning program to quickly infer the parameters of a pulsar emitting hotspot from the measured pulse profile."
   ]
  },
  {
   "cell_type": "code",
   "execution_count": 1,
   "id": "1ffc775f-48b5-4ff6-816d-6566a5e82b42",
   "metadata": {},
   "outputs": [],
   "source": [
    "import numpy as np\n",
    "from scipy.interpolate import interp2d, RectBivariateSpline\n",
    "import os\n",
    "from concurrent.futures import ProcessPoolExecutor\n",
    "import pandas as pd\n",
    "from functools import partial\n",
    "import time\n",
    "from tqdm import tqdm\n",
    "import matplotlib.pyplot as plt"
   ]
  },
  {
   "cell_type": "markdown",
   "id": "0ee5eea4-1829-4bd9-b0ac-8b9b41f76f1f",
   "metadata": {},
   "source": [
    "I imported everything I will use later on, be careful to install all that is needed for this code to run properly"
   ]
  },
  {
   "cell_type": "markdown",
   "id": "4bd5ef17-a97f-420c-be81-c808ff98598f",
   "metadata": {},
   "source": [
    "Please make sure to have installed the following packages on your interpreter:\n",
    "- numpy\n",
    "- concurrent.futures\n",
    "- pandas\n",
    "- matplotlib.pyplot\n",
    "- tqdm (this is just the progress bar)\n",
    "- functools\n",
    "- scipy.interpolate\n",
    "- pyarrow"
   ]
  },
  {
   "cell_type": "markdown",
   "id": "d3b4fd62-4819-47ff-9c68-edf110ab7d65",
   "metadata": {},
   "source": [
    "## 1. Define the physical functions of the setting"
   ]
  },
  {
   "cell_type": "markdown",
   "id": "00515e78-415e-4af4-bcd3-cbbcf3c82ccf",
   "metadata": {},
   "source": [
    "This part of the code is part of the PhD thesis: https://publikationen.uni-tuebingen.de/xmlui/handle/10900/144225, Saathoff, 2023"
   ]
  },
  {
   "cell_type": "markdown",
   "id": "2a2e102b-8fda-4a6d-927a-2d92d1412040",
   "metadata": {},
   "source": [
    "These two functions are simply used to change coordinates:"
   ]
  },
  {
   "cell_type": "code",
   "execution_count": 2,
   "id": "71aa648f-2c9e-4e20-8ae5-d03447e94841",
   "metadata": {},
   "outputs": [],
   "source": [
    "def cart2sph(x, y, z):\n",
    "    xy = np.sqrt(x ** 2 + y ** 2)\n",
    "\n",
    "    r = np.sqrt(x ** 2 + y ** 2 + z ** 2)\n",
    "    phi = np.arctan2(y, x)\n",
    "    theta = np.arctan2(xy, z)\n",
    "\n",
    "    return r, theta, phi\n",
    "\n",
    "\n",
    "def sph2cart(r, theta, phi):\n",
    "    X = r * np.sin(theta) * np.cos(phi)\n",
    "    Y = r * np.sin(theta) * np.sin(phi)\n",
    "    Z = r * np.cos(theta)\n",
    "    return X, Y, Z"
   ]
  },
  {
   "cell_type": "markdown",
   "id": "fbde013f-4833-461b-94a9-54de3e3b9408",
   "metadata": {},
   "source": [
    "The following function is used to identify the location of the hotspot on the surface of the pulsar. There are a number of possible positions for the hotspot, which form a circle around the rotation axis. The '*Rotation.from_rotvec*' function is responsible for determining these positions:"
   ]
  },
  {
   "cell_type": "code",
   "execution_count": 3,
   "id": "d8f99ae3-1616-405d-a9d3-5895810ea8e2",
   "metadata": {},
   "outputs": [],
   "source": [
    "def hotspotXYZ(RotationInclination, RotationAzimut, MagnColatitude, npoints, shift=0):\n",
    "    \n",
    "    \"\"\"This function defines the position of the hotspot.\n",
    "\n",
    "        Parameters:\n",
    "            ----------\n",
    "            RotationInclination: how much is the rotation axis inclined in deg\n",
    "\n",
    "            RotationAzimuth: the azimuthal angle that defines the rotation axis in deg\n",
    "\n",
    "            MagnColatitude: Angular position of the hotspot with respect to the rotation axis point, in deg.\n",
    "            E.g. if between the rotational vector and the vector from the center of the sphere and the hotspot there is an angle of 30°,\n",
    "            this will be the MagneticColatitude\n",
    "\n",
    "            npoints: The number of points where the hotspot can lay around the rotational axis, it will be the same as the dimension as the decomposition values (32)\n",
    "\n",
    "            shift: The phase shift due to a different angle of observation of the system, will give the same pattern but shifted, in rad\n",
    "\n",
    "        Returns:\n",
    "            ----------------\n",
    "            hotspot:\n",
    "                position of the points where the hotspot can be around the rotation axis (list of arrays)\n",
    "\n",
    "            \"\"\"\n",
    "    \n",
    "    from numpy.linalg import norm\n",
    "    from scipy.spatial.transform import Rotation\n",
    "    ##  We first locate the rotation axis creating the point on the sphere defined by the given angles  ##\n",
    "\n",
    "    altitude = np.deg2rad(90 - RotationInclination)  # inclination 0-90 deg, from the horizon up\n",
    "    azimuth = np.deg2rad(RotationAzimut)  # 0-2*pi, around a circle on the horizon\n",
    "    rotax = sph2cart(1, altitude, azimuth)  # in cartesian coordinates\n",
    "    rotax = rotax / norm(rotax)  # normalized\n",
    "\n",
    "    ## --- Location of the hotspot --- ###\n",
    "    HotspotAltitude = altitude + np.deg2rad(\n",
    "        MagnColatitude)  # inclination 0-90 deg, from the horizon up, defined with respect to the altitude of the rotational angle\n",
    "    HotspotAzimuth = azimuth  # 0-2*pi, around a circle on the horizon\n",
    "\n",
    "    hotspot = sph2cart(1, HotspotAltitude, HotspotAzimuth)  # Locating the hotspot in cartesian coordinates\n",
    "    hotspot = hotspot / norm(hotspot)  # Normalization of the vector to fit in the sphere of radius 1\n",
    "\n",
    "    ## --- Rotation of the hotspot around the rotation axis --- ###\n",
    "    phirot = np.linspace(0 + shift, 2 * np.pi + shift,\n",
    "                         npoints).tolist()  # We create an array of equispaced angles based on the defined shift\n",
    "    rot = [Rotation.from_rotvec(x * rotax) for x in\n",
    "           phirot]  # Rotation.from_rotvec defines the parameters for a rotation around a point\n",
    "\n",
    "    hotspot = [x.apply(hotspot) for x in\n",
    "               rot]  # Creates different possible hotspots around the rotation axis, applying the rotation with x.apply(),\n",
    "    # using hotspot we have the rotation based on the MagnColatitude, all the vectors defining this rotation will have a MagnColatitude angle with respect to the rotation axis\n",
    "    return hotspot"
   ]
  },
  {
   "cell_type": "markdown",
   "id": "27a65502-3a18-4c96-a292-9450e603f78f",
   "metadata": {},
   "source": [
    "The '*GravitationalLightBending*' function is used to take into account the gravitational light bending due to general relativity, in order to correlate the observed angles with the intrinsic ones:"
   ]
  },
  {
   "cell_type": "code",
   "execution_count": 4,
   "id": "ed268103-1c59-4e3e-83dd-2850907bab29",
   "metadata": {},
   "outputs": [],
   "source": [
    "def GravitationalLightBending(psi):\n",
    "    \"\"\" Defines all the parameters needed for light bending using general relativity, and then returns the angle the observer sees\n",
    "\n",
    "    Parameters:\n",
    "        ------------\n",
    "    psi: angle observed due to light bending (float)\n",
    "\n",
    "    Returns:\n",
    "        ------------\n",
    "        alpha: actual angle of emission (float)\n",
    "\n",
    "    Notes:\n",
    "        See Beloborodov 2002 Equation 1 for futher information\n",
    "\n",
    "        \"\"\"\n",
    "    G = 6.67e-8  # cm3 g−1 s−2\n",
    "    M = 1.98847e33  # g\n",
    "    mNS = 1.4  # in solar masses (M)\n",
    "    lsc = 2.99792458e10  # cm/s\n",
    "    rg = 2 * G * mNS * M / lsc ** 2 * 1e-5  # km\n",
    "    r = 3 * rg  # 3*rg = 12; 10 # km   # 2/0.19 rg = 43.5 km\n",
    "\n",
    "    alpha = np.arccos(\n",
    "        1 - (1 - np.cos(psi)) * (1 - rg / r))  # Beloborodov 2002 Equation 1; psi in B02 = beta for me; alpha = alpha\n",
    "\n",
    "    return alpha\n",
    "\n"
   ]
  },
  {
   "cell_type": "markdown",
   "id": "2ae5ca84-4813-40f7-82f4-bee56a01c3df",
   "metadata": {},
   "source": [
    "With the functions and the position of the hotspot defined before we are able to find the angles that describe the hotspot. The '*GravitationalLightBending*' is employed in order to take into account general relativity:"
   ]
  },
  {
   "cell_type": "code",
   "execution_count": 5,
   "id": "33fb9b0c-f2dc-4a93-97be-f00b8aab958f",
   "metadata": {},
   "outputs": [],
   "source": [
    "def intrinsicAngles(hotspotLoc):\n",
    "    \"\"\"Transforms the observed angles, defined with the function hotspotXYZ, into\n",
    "     the intrinsic angles, taking into account the gravitational light bending\n",
    "\n",
    "\n",
    "     Parameters:\n",
    "        -----------\n",
    "        hotspotLoc: Location of the hotspot, list of arrays defining the angles of the positions of the hotspot around the rotation axis (list of arrays)\n",
    "\n",
    "     Returns:\n",
    "        ------------\n",
    "        hotspotTheta: list of the possible observed azimuthal angles of the hotspot (list)\n",
    "\n",
    "        hotspotPhi: list of the possible observed inclination angles of the hotspot (list)\n",
    "\n",
    "        intrinsicTheta: possible intrinsic azimuthal angles of the hotspot, aster taking into account gravitational light bending (list)\n",
    "\n",
    "        intrinsicPhi: possible intrinsic inclination angles of the hotspot, aster taking into account gravitational light bending (list)\n",
    "\n",
    "     \"\"\"\n",
    "    hotspotTheta = [np.pi / 2 - cart2sph(*loc)[1] for loc in\n",
    "                    hotspotLoc]  # Get the azimuthal angles from the location of the hotspots\n",
    "    hotspotPhi = [cart2sph(*loc)[2] for loc in\n",
    "                  hotspotLoc]  # Get the inclination angles from the location of the hotspots\n",
    "\n",
    "    intrinsicTheta = GravitationalLightBending(hotspotTheta)  # Transforming theta with the gravitational bending\n",
    "    intrinsicTheta = np.nan_to_num(intrinsicTheta, nan=np.pi)\n",
    "    intrinsicTheta = np.where(np.array(hotspotTheta) < 0, -intrinsicTheta,\n",
    "                              intrinsicTheta)  # need this because of geometrical symmetries that are not part of the equation in GravitationalLightBending\n",
    "\n",
    "    intrinsicPhi = GravitationalLightBending(hotspotPhi)  # Transform phi with the gravitational light bending\n",
    "    intrinsicPhi = np.nan_to_num(intrinsicPhi, nan=np.pi)\n",
    "    intrinsicPhi = np.where(np.array(hotspotPhi) < 0, -intrinsicPhi,\n",
    "                            intrinsicPhi)  # need this because of geometrical symmetries that are not part of the equation in GravitationalLightBending\n",
    "\n",
    "    return hotspotTheta, hotspotPhi, intrinsicTheta, intrinsicPhi"
   ]
  },
  {
   "cell_type": "markdown",
   "id": "c8568aab-56b7-44e9-819d-f44119853376",
   "metadata": {},
   "source": [
    "The function '*defBeampattern*' is fundamental because it defines the beam pattern, that is the beam emitted from the hotspot. This is defined by\n",
    "three parameters. An **inclination angle**, an **azimuthal angle** (both defined with respect to the normal to the surface of the hotspot),\n",
    "and the **power** of the beam, that describes the \"peakiness\":"
   ]
  },
  {
   "cell_type": "code",
   "execution_count": 6,
   "id": "5ec7428e-f755-4d4f-ae61-a385f4439c4c",
   "metadata": {},
   "outputs": [],
   "source": [
    "def defBeampattern(irange, arange, grid1, grid2, param1, param2, param3, param4, param5):\n",
    "    \"\"\"Uses the parametrization of the beam pattern in order to place it on the grid defined by grid1 and grid2,\n",
    "     irange and arange are the range of the angles that are used to define the grids that we mesh together afterward to create the whole grid to plot the beampattern on.\n",
    "     This function also includes the asymmetry of the inclination and the azimuthal angles of the beam emission.\n",
    "     these angles are defined with respect to the normal to the surface of the hotspot.\n",
    "\n",
    "     Parameters:\n",
    "        -------------\n",
    "        irange: range of the possible inclination angles (from 0 to pi/2), with respect to the normal of the hotspot (list)\n",
    "\n",
    "        arange: range of the possible azimuthal angles (from -pi/2 to pi/2), with respect to the y-axis (list)\n",
    "\n",
    "        grid1: X result from the meshgrid of irange and arange (list of arrays)\n",
    "\n",
    "        grid2: Y result from the meshgrid of irange and arange (list of arrays)\n",
    "\n",
    "        param1, param2: define the shifting of the cosine functions in the equation of beampattern. (float)\n",
    "\n",
    "        param3: define the exponent of the equation beampattern that allows to adjust the width or “peakiness” of the beam pattern (float)\n",
    "\n",
    "        param4, param5: Used to multiply the cosines of the irange and arange angles to introduce more asymmetry (float)\n",
    "\n",
    "    Returns:\n",
    "        ----------------\n",
    "        beampattern: the pattern of the beam that is emitted from the pole of the pulsar, containing also the asymmetries (2D numpy array)\n",
    "\n",
    "    References:\n",
    "        -----\n",
    "        fig 7.12, pag. 134 of Saathof, 2023\n",
    "     \"\"\"\n",
    "\n",
    "    beampattern = (np.cos(grid2 + param1) * np.cos(grid1 + param2)) ** int(param3)\n",
    "    # irange_asym = np.array(np.cos(irange) * param4)\n",
    "    # arange_asym = np.array(np.cos(arange) * param5)\n",
    "    # beampattern = beampattern.T\n",
    "    # beampattern += irange_asym  # adding the asymmetries to the pattern calculated before\n",
    "    # beampattern = beampattern.T\n",
    "    # beampattern += arange_asym\n",
    "\n",
    "    beampattern = np.abs(beampattern)\n",
    "    beampattern /= np.max(beampattern)\n",
    "    beampattern = np.where(grid1 > np.pi / 2, 0, beampattern)\n",
    "    beampattern = np.where(grid2 > np.pi / 2, 0, beampattern)\n",
    "    beampattern = np.where(grid1 < -np.pi / 2, 0, beampattern)\n",
    "    beampattern = np.where(grid2 < -np.pi / 2, 0, beampattern)\n",
    "    return beampattern\n"
   ]
  },
  {
   "cell_type": "markdown",
   "id": "910915fb-68ed-4716-bc1f-e4505b84d048",
   "metadata": {},
   "source": [
    "## 2. Do the physics"
   ]
  },
  {
   "cell_type": "markdown",
   "id": "a4ff29ec-a8d3-4d83-b86c-4d4f40a0ddf9",
   "metadata": {},
   "source": [
    "All the functions defined before are used here, to obtain an interpolation between the beampattern and the intrinsic angle of the hotspot, \n",
    "in order to get back the parameters and, most importantly the resulting **pulse profile**:\n"
   ]
  },
  {
   "cell_type": "code",
   "execution_count": 7,
   "id": "e9606c23-130c-4e7f-adde-28157289537a",
   "metadata": {},
   "outputs": [],
   "source": [
    "def f_parametrized(RotationInclination, RotationAzimuth, MagnColatitude, param1, param2, param3, param4, param5, shift):\n",
    "    \"\"\"Combines all the functions defined before:\n",
    "\n",
    "    Parameters:\n",
    "        -----------\n",
    "        RotationInclination: angle of inclination of the rotation axis\n",
    "\n",
    "        RotationAzimuth: azimuth angle of the rotation axis\n",
    "\n",
    "        MagnColatitude: relative angle between the hotspot vector and the rotation axis\n",
    "\n",
    "        param1, param2, param3, param4, param5: see the function \"defBeamPattern\"\n",
    "\n",
    "        shift: phase shift of the pulse profile\n",
    "\n",
    "    Returns:\n",
    "        ---------------\n",
    "        irange: range of the inclination angle of the beam emission\n",
    "\n",
    "        arange: range of the azimuth angle of the beam emission\n",
    "\n",
    "        grid1, grid2: grid defined by irange and arange, from meshgrid\n",
    "\n",
    "        hotspotLoc: location of the hotspot, calculated with the function \"hotspotXYZ\"\n",
    "\n",
    "        decomposition: the decomposition of the pulse profile defined by the function \"decompositions\"\n",
    "\n",
    "        hotspotTheta: list of the possible observed azimuthal angles of the hotspot (list)\n",
    "\n",
    "        hotspotPhi: list of the possible observed inclination angles of the hotspot (list)\n",
    "\n",
    "        intrinsicTheta: possible intrinsic azimuthal angles of the hotspot, aster taking into account gravitational light bending (list)\n",
    "\n",
    "        intrinsicPhi: possible intrinsic inclination angles of the hotspot, aster taking into account gravitational light bending (list)\n",
    "\n",
    "        pattern: the pattern defined by the equations of the beam in \"defBeamPattern\" (2D numpy array)\n",
    "\n",
    "        hotspotPattern: pattern obtained interpolating the function of the beamPattern with the angles that define the hotspot (list)\n",
    "        \"\"\"\n",
    "\n",
    "    irange = np.linspace(-np.pi / 2, np.pi / 2, 32)\n",
    "    arange = np.linspace(-np.pi / 2, np.pi / 2, 32)\n",
    "    grid1, grid2 = np.meshgrid(irange, arange)\n",
    "    npoints = 32\n",
    "\n",
    "    hotspotLoc = hotspotXYZ(RotationInclination, RotationAzimuth, MagnColatitude, npoints, shift)\n",
    "\n",
    "    hotspotTheta, hotspotPhi, intrinsicTheta, intrinsicPhi = intrinsicAngles(hotspotLoc)\n",
    "\n",
    "    pattern = defBeampattern(irange, arange, grid1, grid2, param1, param2, param3, param4, param5)\n",
    "    r = RectBivariateSpline(irange, arange, pattern.T)\n",
    "    patternSpline = lambda x, y: r(x, y).T  # gives a function that can interpolate the grid (x y axis) with the beam pattern (z axis)\n",
    "\n",
    "    hotspotPattern = [patternSpline(intrinsicTheta[i], intrinsicPhi[i]) for i in\n",
    "                      range(len(intrinsicPhi))]  # Evaluate the interpolating function at the angles of the hotspot\n",
    "    hotspotPattern = np.concatenate(hotspotPattern).ravel().tolist()\n",
    "\n",
    "    return irange, arange, grid1, grid2, hotspotLoc, \\\n",
    "        hotspotTheta, hotspotPhi, intrinsicTheta, intrinsicPhi, \\\n",
    "        pattern, hotspotPattern, param1, param2, param3, param4, param5"
   ]
  },
  {
   "cell_type": "markdown",
   "id": "8e2c91e4-40a7-4eda-a0b0-8dcd1b461f34",
   "metadata": {},
   "source": [
    "## 3. Data creation"
   ]
  },
  {
   "cell_type": "markdown",
   "id": "7f946f91-1f61-4edf-bfd3-9800f72572dc",
   "metadata": {},
   "source": [
    "Firstly, it is necessary to describe the ranges of the parameters. To this end, a function has been created which utilises a '*linspace*' for each parameter of the given length. We want to include the antipodes of the rotation axis, because the pulsar will have two opposites poles. Therefore we need to make sure that the length of the ranges of the rotation angles is even:"
   ]
  },
  {
   "cell_type": "code",
   "execution_count": 1,
   "id": "dfcb0db3-7b2b-4e23-9b08-cb114c586612",
   "metadata": {},
   "outputs": [],
   "source": [
    "def ranges(i):\n",
    "\n",
    "    \"\"\"This function defines the ranges of variation of the parameters in order to create the data\n",
    "\n",
    "\n",
    "\n",
    "    Parameters:\n",
    "\n",
    "        ----------\n",
    "\n",
    "        i (float): the number of iterations for each parameter\n",
    "\n",
    "    Returns:\n",
    "\n",
    "        ----------\n",
    "\n",
    "        A list of len = i for each of the 7 parameters, except for the rotation inclination that will have i+3 values\n",
    "        and the power that will have 4 values regardless of i\n",
    "\n",
    "    Notes:\n",
    "        ------\n",
    "        We need to have opposite rotation axis to generate meaningful data, that can come from both poles\n",
    "        of the star. This is why the number of angles generated for rotation inclination and rotation azimuth must be the even.\n",
    "        We basically want to generate both the locations of the rotation axis and their own antipodes.\n",
    "\n",
    "        \"\"\"\n",
    "    if i%2 == 0:\n",
    "        rot_i = np.linspace(-90, 90, i + 2) # More important, I added 3 iterations for now, there can be more\n",
    "\n",
    "        rot_a = np.linspace(-180, 180, i, endpoint=False) # +180 is not useful, same as -180\n",
    "\n",
    "        magnc = np.linspace(0, 90, i)\n",
    "\n",
    "        shift = np.linspace(-np.pi, np.pi, i, endpoint=False) # Set some endpoint= False because I think they would lead to the same result\n",
    "\n",
    "        p1 = np.linspace(-np.pi, np.pi, i, endpoint=False)\n",
    "\n",
    "        p2 = np.linspace(-np.pi, np.pi, i, endpoint=False)\n",
    "\n",
    "        p3 = np.array([1, 5, 10, 15])  # Less important, let us limit to 4 interactions\n",
    "\n",
    "    else:\n",
    "        rot_i = np.linspace(-90, 90, i + 3)  # More important, I added 3 iterations for now, there can be more\n",
    "\n",
    "        rot_a = np.linspace(-180, 180, i+1, endpoint=False)  # +180 is not useful, same as -180\n",
    "\n",
    "        magnc = np.linspace(0, 90, i)\n",
    "\n",
    "        shift = np.linspace(-np.pi, np.pi, i, endpoint=False)  # Set some endpoint= False because I think they would lead to the same result\n",
    "\n",
    "        p1 = np.linspace(-np.pi, np.pi, i, endpoint=False)\n",
    "\n",
    "        p2 = np.linspace(-np.pi, np.pi, i, endpoint=False)\n",
    "\n",
    "        p3 = np.array([1, 5, 10, 15])  # Less important, let us limit to 4 interactions\n",
    "\n",
    "\n",
    "    # init_p4 = np.linspace(0, 1, 5) #These are asymmetry parameters, ignore for now\n",
    "\n",
    "    # p5 = np.linspace(0, 1, 5)\n",
    "\n",
    "\n",
    "\n",
    "    return rot_i, rot_a, magnc, shift, p1, p2, p3\n"
   ]
  },
  {
   "cell_type": "markdown",
   "id": "051e5fc9-eaa9-4388-8eb2-fd24295c6d5e",
   "metadata": {},
   "source": [
    "Now let's generate **all the possible combinations** from the ranges just defined:"
   ]
  },
  {
   "cell_type": "code",
   "execution_count": 9,
   "id": "2c56b674-0614-4824-b0b4-43de6582ec5e",
   "metadata": {},
   "outputs": [],
   "source": [
    "def generate_combinations(magnc, shift, p1, p2, p3):\n",
    "    \"\"\"This list comprehension simply generates all the possible combinations from the\n",
    "    given lists of data, in order to use it in the function without for cycles\n",
    "\n",
    "    Parameters:\n",
    "        ---------\n",
    "        rot_i, rot_a, magnc, shift, p1, p2, p3: The 7 ranges of parameters that we need to iterate with (list)\n",
    "\n",
    "    Returns:\n",
    "        ----------\n",
    "        combo: list containing all the possible combinations of parameters\n",
    "        \"\"\"\n",
    "    combo = [(magnc[u], p1[i], p2[j], p3[k], shift[v])\n",
    "            for u in range(len(magnc))\n",
    "            for v in range(len(shift))\n",
    "            for i in range(len(p1))\n",
    "            for j in range(len(p2))\n",
    "            for k in range(len(p3))]\n",
    "    return combo"
   ]
  },
  {
   "cell_type": "markdown",
   "id": "7e87036f-d931-4f3e-a265-eeb5ddfd4a9a",
   "metadata": {},
   "source": [
    "This returns a list that containes all the possible combinations of the parameters."
   ]
  },
  {
   "cell_type": "markdown",
   "id": "cafd922b-908a-4308-b5a9-faed414d3fc7",
   "metadata": {},
   "source": [
    "## 3.1 ProcessPoolExecutor parallelization (Use it alternatively to the \"Linear for cycle process\", commented out)"
   ]
  },
  {
   "cell_type": "markdown",
   "id": "2b9c5638-3ad9-40f7-9b29-e0a109b99937",
   "metadata": {},
   "source": [
    "**This might not work on notebook but it is included in the python script.**"
   ]
  },
  {
   "cell_type": "markdown",
   "id": "0f4ca806-59c7-4313-9e1c-37d97e2325fc",
   "metadata": {},
   "source": [
    "The subsequent step is to iterate over all possible values of the aforementioned list and to pass these values to the function describing the physical processes. This is done in order to obtain the values of the hotspot and the pulse profile corresponding to the different combinations of parameters. This goal will be achieved with the function iterations, where the only input parameter will be the combination just generated:"
   ]
  },
  {
   "cell_type": "code",
   "execution_count": 10,
   "id": "f07ebf6b-47e0-4b47-b0ee-3bd203545abd",
   "metadata": {},
   "outputs": [],
   "source": [
    "#def iterations(rot_i, rot_a, combo):\n",
    "    #\"\"\"With this function I iterate the combined ranges in the function that defines the final dataset.\n",
    "\n",
    "   # Parameters:\n",
    "    #    ---------\n",
    "     #   The list of all the possible data combinations\n",
    "\n",
    "    #Returns:\n",
    "     #   -----------\n",
    "      #  The list of dictionaries containing the data (parameters and hotspot pattern) of the function defining the code\n",
    "\n",
    "    #Notes:\n",
    "     #   This function is used in this way and not with the for cycles within it because it was the only way I could figure\n",
    "       # how to run the processes in parallel with ProcessPoolExecutor\n",
    "        #\"\"\"\n",
    "\n",
    "#    magnc, p1, p2, p3, shift = combo #assign the values to the parameters\n",
    " #   data = []  # creates the listy of future data\n",
    "    # Now that we fixed the values iterating, let's use the function to calculate the physical data\n",
    "  #  irange, arange, grid1, grid2, hotspotLoc, hotspotTheta, hotspotPhi, intrinsicTheta, intrinsicPhi, beampattern, hotspotPattern, \\\n",
    "   #     param1, param2, param3, param4, param5 = \\\n",
    "    #    f_parametrized(rot_i, rot_a, magnc, p1, p2, p3, 0, 0, shift)\n",
    "\n",
    "    # Create a dictionary to append to the list for every interaction\n",
    "\n",
    "    #data_to_save = {\n",
    "     #   # 'intrinsic theta': intrinsicTheta,\n",
    "        # 'intrinsic phi': intrinsicPhi,\n",
    "      #  'param1': param1,\n",
    "       # 'param2': param2,\n",
    "       # 'param3': param3,\n",
    "        # 'param4': params['param4'],\n",
    "        # 'param5': params['param5'],\n",
    "        #'hotspot pattern': hotspotPattern,\n",
    "        #'rotation inclination': rot_i,\n",
    "        #'rotation azimuth': rot_a,\n",
    "        #'magnetic colatitude': magnc,\n",
    "        #'shift': shift,\n",
    "    #}\n",
    "\n",
    "    # Append the dictionary to the list of data\n",
    "\n",
    "    #data.append(data_to_save)\n",
    "\n",
    "    # Put a progress bar if needed, not sure how to implement here\n",
    "\n",
    "   # return data"
   ]
  },
  {
   "cell_type": "markdown",
   "id": "c2436a50-6823-442b-92e5-df9e2abaebd4",
   "metadata": {},
   "source": [
    "This returns a list of dictionaries that contain the data we are interested in saving."
   ]
  },
  {
   "cell_type": "markdown",
   "id": "ee8028c8-56b5-48b9-aaac-0c06b0ae8d64",
   "metadata": {},
   "source": [
    "#### Put all together"
   ]
  },
  {
   "cell_type": "markdown",
   "id": "93001040-b511-44ce-bf54-7b97bb25a766",
   "metadata": {},
   "source": [
    "The goal now is to do all the physics described before, running the different processes in parallel with ProcessPoolExecutor. First of all let us choose a length for the parameters range and generate the ranges"
   ]
  },
  {
   "cell_type": "markdown",
   "id": "733d516c-628a-4aa7-8718-e45f9bb8b04f",
   "metadata": {},
   "source": [
    "The next step is to generate all the combinations from the chosen ranges, calling the function described beforehand (generate_combinations)."
   ]
  },
  {
   "cell_type": "markdown",
   "id": "0928c3ec-d0d4-48d9-8a35-ee71fadb7b34",
   "metadata": {},
   "source": [
    "Let's then proceed calling the main function \"iterations\" (that contains the physical funnction and parameters). To do so I will use a parallelization of the processes, utilizing the function ProcessPoolExecutor, that takes as a parameter the number of processors one wants to use to run the code."
   ]
  },
  {
   "cell_type": "markdown",
   "id": "54d555dd-6aee-409a-bf23-68d6af2a4220",
   "metadata": {},
   "source": [
    "We have 7 parameters, and since a good number of executor is 5, to not overload the computer it is necessary to take out of the executor two parameters, that will be passed to the function via for loops. The function *iterations_partial* ensures that the function *iterations* fixes the two parameters, rot_i and rot_a, that we defined with the for loops. This is necessary in order to use the executor to calculate the data with the combination of the other 5 parameters.\n"
   ]
  },
  {
   "cell_type": "markdown",
   "id": "ea03ac2d-b2e8-4e97-a73e-fc41f073de25",
   "metadata": {},
   "source": [
    "The data must then be processed and put in a list of dictionaries, that I called *final* in the following code. This list is the list we will save in the file."
   ]
  },
  {
   "cell_type": "markdown",
   "id": "df8dcc12-56a0-42b7-b4e1-e4e14abec0ff",
   "metadata": {},
   "source": [
    "Finally, tqdm creates a progress bar needed to check the status of the data generation:"
   ]
  },
  {
   "cell_type": "code",
   "execution_count": 11,
   "id": "2854bdd7-2eb5-4aa8-b025-f14fa5dde1e7",
   "metadata": {},
   "outputs": [],
   "source": [
    "\n",
    "#if __name__ == \"__main__\": # This is apparently needed otherwise the code crashes\n",
    "\n",
    "\n",
    " #   length = 4  # Change this as needed\n",
    "  #  iters = length * (length + 3)\n",
    "#\n",
    " #   rot_i, rot_a, magnc, shift, p1, p2, p3 = ranges(length)  # Create the ranges of the parameters\n",
    "\n",
    "  #  start = time.time()\n",
    "\n",
    "    # Generate all combinations of the parameters\n",
    "   # combo = list(generate_combinations(magnc, shift, p1, p2, p3))\n",
    "    #final = []  # Creates an empty list to be filled with the actual datasets\n",
    "\n",
    "    #with tqdm(total=iters) as pbar:\n",
    "     #   for a in range(len(rot_i)):\n",
    "      #      for b in range(len(rot_a)):\n",
    "       #         with Pool(5) as pool:\n",
    "        #            iterations_partial = partial(iterations, rot_i[a], rot_a[b])\n",
    "\n",
    "                    # Use the parallelization to compute the data\n",
    "         #           data = pool.map(iterations_partial, combo)\n",
    "\n",
    "          #      for element in data:\n",
    "           #         final.append(element[0])\n",
    "\n",
    "            #    pbar.update(1)\n",
    "\n",
    "    #end = time.time()\n",
    "    #print(\"\\nTime = \", ((end - start) / 60))  # Just check the time\n"
   ]
  },
  {
   "cell_type": "markdown",
   "id": "39ac4c0c-50ef-44b2-bef3-9c1bd045eabd",
   "metadata": {},
   "source": [
    "This executes different processes in parallel and therefore improves the time taken by the code to run. It might have some problems, so I will also describe the \"linear\" process that will take more time but it is easier to run since it doesn't involve function with multiprocessing. "
   ]
  },
  {
   "cell_type": "markdown",
   "id": "39d3fc3c-7b4f-47af-a14c-cb7a86618367",
   "metadata": {},
   "source": [
    "**P.S** This code might not run properly on Jupyter Notebook, this is why it is commented out. I still included it here to make one understand when using the python scripts"
   ]
  },
  {
   "cell_type": "markdown",
   "id": "1cf95263-57ef-419e-84b4-28867f63656e",
   "metadata": {},
   "source": [
    "## 3.2 Linear for cycle process (Use as an alternative for \"ProcessPoolExecutor parallelization\")"
   ]
  },
  {
   "cell_type": "markdown",
   "id": "0ce74175-167e-4bbc-9517-30f1d04f4bbd",
   "metadata": {},
   "source": [
    "This method is simpler conceptually because it \"simply\" iterates with for cycles over all the possible combinations and generates the data from there. \n",
    "\n",
    "<b>Use a low number in ranges to try (5 max) because it scales exponentially (5 as range should take around 5 minutes)"
   ]
  },
  {
   "cell_type": "code",
   "execution_count": 12,
   "id": "586076e2-99b6-4126-943d-ddd997d15fdd",
   "metadata": {},
   "outputs": [],
   "source": [
    "final = []  # creates the listy of future data\n",
    "(rot_i, rot_a, magnc, p1, p2, p3, shift) = ranges(5)\n",
    "combo = generate_combinations(magnc, p1, p2, p3, shift)"
   ]
  },
  {
   "cell_type": "markdown",
   "id": "07faa48f-b0be-4586-91ad-b590d5650da9",
   "metadata": {},
   "source": [
    "Having generated all the data combinations, we can iterate over them, calling the function describing the physical process,  '*f_parametrized*', for every different combination of parameters. \n",
    "\n",
    "In this *for cycle* for every iteration the results are saved in a dictionary that is appended to the empty list created earlier, in order to have the list of dictionaries at the end of the process:"
   ]
  },
  {
   "cell_type": "code",
   "execution_count": 13,
   "id": "ddb1be5a-e1dc-4121-ab6b-f764a132fda4",
   "metadata": {},
   "outputs": [],
   "source": [
    "for element in combo:\n",
    "    \n",
    "    magnc, p1, p2, p3, shift = element #assign the values to the parameters\n",
    "    \n",
    "    # Now that we fixed the values iterating, let's use the function to calculate the physical data\n",
    "    for a in range(len(rot_i)):\n",
    "        for b in range(len(rot_a)):\n",
    "            irange, arange, grid1, grid2, hotspotLoc, hotspotTheta, hotspotPhi, intrinsicTheta, intrinsicPhi, beampattern, hotspotPattern, \\\n",
    "                param1, param2, param3, param4, param5 = \\\n",
    "                f_parametrized(rot_i[a], rot_a[b], magnc, p1, p2, p3, 0, 0, shift)\n",
    "\n",
    "    # Create a dictionary to append to the list for every interaction\n",
    "\n",
    "            data_to_save = {\n",
    "                # 'intrinsic theta': intrinsicTheta,\n",
    "                # 'intrinsic phi': intrinsicPhi,\n",
    "                'param1': param1,\n",
    "                'param2': param2,\n",
    "                'param3': param3,\n",
    "                # 'param4': params['param4'],\n",
    "                # 'param5': params['param5'],\n",
    "                'hotspot pattern': hotspotPattern,\n",
    "                'rotation inclination': rot_i[a],\n",
    "                'rotation azimuth': rot_a[b],\n",
    "                'magnetic colatitude': magnc,\n",
    "                'shift': shift,\n",
    "            }\n",
    "\n",
    "    # Append the dictionary to the list of data\n",
    "\n",
    "            final.append(data_to_save)"
   ]
  },
  {
   "cell_type": "markdown",
   "id": "1471299d-e9be-4158-ab3b-df25a618f035",
   "metadata": {},
   "source": [
    "## 4. Saving data in a parquet file"
   ]
  },
  {
   "cell_type": "markdown",
   "id": "c9179ee6-d1b7-41dc-9f4a-0ad70f0cb841",
   "metadata": {},
   "source": [
    "Now you should have generated a **list of dictionaries**. \n",
    "Each dictionary should look like this (these are random data from my database):"
   ]
  },
  {
   "cell_type": "markdown",
   "id": "4e09e4ea-098c-4e71-b1b4-646b1e91421f",
   "metadata": {},
   "source": [
    "{'param1': 1.8849555921538759, 'param2': 0.6283185307179586, 'param3': 6.666666666666667, 'hotspot pattern': [ 1.88177966e-01,  2.23304447e-01,  2.58136002e-01,  2.83790161e-01,\r\n",
    "        2.89524631e-01,  2.66984723e-01,  2.15774666e-01,  1.46896294e-01,\r\n",
    "        7.94433174e-02,  3.09385557e-02,  7.15113550e-03,  6.04311015e-04,\r\n",
    "        2.10630832e-06, -3.01634917e-07,  4.69047858e-04,  1.19985999e-02,\r\n",
    "        7.83525164e-02,  2.46678301e-01,  4.88061390e-01,  7.09863153e-01,\r\n",
    "        7.12928652e-01,  6.71364382e-01,  6.11643015e-01,  5.38945897e-01,\r\n",
    "        4.60805567e-01,  3.84938327e-01,  3.17476421e-01,  2.62035695e-01,\r\n",
    "        2.19993452e-01,  1.91048215e-01,  1.74265599e-01,  1.8817796e-01]), 'rotation inclination': -64.28571428571428, 'rotation azimuth': 114.0, 'magnetic colatitude': 67.5, 'shift': -3.141592653589793}\r\n"
   ]
  },
  {
   "cell_type": "markdown",
   "id": "2f8a10bb-31e4-4297-9e73-2f1e7adee77e",
   "metadata": {},
   "source": [
    "You can compare it with an example from this code:"
   ]
  },
  {
   "cell_type": "code",
   "execution_count": 14,
   "id": "bebdd32d-3311-4ea4-8552-c8fbc5256b28",
   "metadata": {},
   "outputs": [
    {
     "name": "stdout",
     "output_type": "stream",
     "text": [
      "{'param1': -3.141592653589793, 'param2': -3.141592653589793, 'param3': 0.0, 'hotspot pattern': [0.9999999999999998, 0.9999999999999998, 0.9999999999999998, 0.9999999999999999, 0.9999999999999999, 0.9999999999999999, 0.9999999999999998, 0.9999999999999998, 0.9999999999999998, 0.9999999999999998, 0.9999999999999998, 0.9999999999999998, 0.9999999999999998, 0.9999999999999998, 0.9999999999999998, 0.9999999999999998, 0.9999999999999998, 0.9999999999999998, 0.9999999999999998, 0.9999999999999998, 0.9999999999999998, 0.9999999999999998, 0.9999999999999998, 0.9999999999999998, 0.9999999999999998, 0.9999999999999998, 0.9999999999999998, 0.9999999999999998, 0.9999999999999999, 0.9999999999999998, 0.9999999999999998, 0.9999999999999998], 'rotation inclination': -90.0, 'rotation azimuth': 48.0, 'magnetic colatitude': 0.0, 'shift': -3.141592653589793}\n"
     ]
    }
   ],
   "source": [
    "print(final[3]) #Choose a random number"
   ]
  },
  {
   "cell_type": "markdown",
   "id": "14093723-bd6c-4750-ba71-7f1d0480dc1e",
   "metadata": {},
   "source": [
    "One can notice how all the parameters are float, ecxept for the hotspot pattern that has 32 entries. The hotspot pattern is the pulse profile that is object of interest."
   ]
  },
  {
   "cell_type": "markdown",
   "id": "2b78a576-9f09-437a-865f-57b462a583f9",
   "metadata": {},
   "source": [
    "We want to save it in a way that's easy to read and use. I chose a parquet file because it's simple and fits my dataset. I created a pandas DataFrame in order to save the data in an efficient way:"
   ]
  },
  {
   "cell_type": "code",
   "execution_count": 15,
   "id": "1fcdc337-e462-4c8f-ba49-02b6d3a70d5b",
   "metadata": {},
   "outputs": [],
   "source": [
    "df = pd.DataFrame(final)"
   ]
  },
  {
   "cell_type": "markdown",
   "id": "2c6b723b-04ac-4971-98c2-f83d00cf85d1",
   "metadata": {},
   "source": [
    "Now let's define a file path to save the data and dump the data into the file, making sure the **engine = \"pyarrow\"** is specified when saving the data in order to achieve a correct encoding (https://pandas.pydata.org/pandas-docs/stable/reference/api/pandas.DataFrame.to_parquet.html):"
   ]
  },
  {
   "cell_type": "code",
   "execution_count": 16,
   "id": "e77c8a31-9f37-4349-8ac6-e912aa9d28a5",
   "metadata": {},
   "outputs": [],
   "source": [
    " # Define the filepath\n",
    "filepath = f'bigdata'\n",
    "\n",
    "\n",
    "#This should dump everything and create the parquet file with the chosen path\n",
    "df.to_parquet(filepath, engine='pyarrow', index=False) "
   ]
  },
  {
   "cell_type": "markdown",
   "id": "83a0e65c-0506-4e18-9db0-d486c8b6799f",
   "metadata": {},
   "source": [
    "So we have created the database as a parquet file!"
   ]
  },
  {
   "cell_type": "markdown",
   "id": "e36d7ab9-18e2-4ec4-bff7-b04cf6382eb8",
   "metadata": {},
   "source": [
    "## 5. How to read the data"
   ]
  },
  {
   "cell_type": "markdown",
   "id": "31253fda-ba4c-4f24-baa5-50b7e1e4a75b",
   "metadata": {},
   "source": [
    "Now the goal is **to read the data and try to use them.** The following part of the code will read all the data back and use them, to give an overview on how to handle the data processing."
   ]
  },
  {
   "cell_type": "markdown",
   "id": "9972283e-908c-46ea-8504-5176a8c0a8fa",
   "metadata": {},
   "source": [
    "This first function I define prints the keys of the dictionary. \n",
    "It is helpful when reading the data to know which are the keys and what do they mean. Knowing the keys and what they represent is a fundamental step for someone who just wants to use the file and was not involved in the creation process of the database:"
   ]
  },
  {
   "cell_type": "code",
   "execution_count": 1,
   "id": "f4279dff-7815-41bb-9f52-54538c133adb",
   "metadata": {},
   "outputs": [],
   "source": [
    "def printKeys(data_dict):\n",
    "    \"\"\"\n",
    "    Prints the keys of the dictionary used in the project\n",
    "\n",
    "    Parameters:\n",
    "        ----------\n",
    "        data_dict: List of dictionaries, it should be read (or obtained) from the simulation data\n",
    "\n",
    "    Returns:\n",
    "        ---------\n",
    "        The keys of the dictionary used\n",
    "\n",
    "    Notes:\n",
    "        ----------\n",
    "        This displays the keys but the data_dict that we have is a list of dictionaries,\n",
    "        so keep it in mind when reading at next steps\n",
    "    \"\"\"\n",
    "    keys = data_dict[1].keys()\n",
    "    descriptions = [\n",
    "        \"is the \\\"azimuthal\\\" parameter of the beam pattern\",\n",
    "        \"is the \\\"inclination\\\" parameter of the beam pattern\",\n",
    "        \"is the power parameter of the beam pattern\",\n",
    "        \"is the pulse profile computed with the parameters\",\n",
    "        \"is the angle of inclination of the rotation axis\",\n",
    "        \"is the azimuthal angle of the rotation axis\",\n",
    "        \"is the magnetic colatitude, describes the angle between the possible hotspots and the rotation axis\",\n",
    "        \"is the position of the hotspot around the rotation axis\",\n",
    "\n",
    "    ]\n",
    "    i = 0\n",
    "    for key in data_dict[1]:\n",
    "\n",
    "        print(\"%s: %s\\n\" %(key, descriptions[i]))\n",
    "        i += 1"
   ]
  },
  {
   "cell_type": "markdown",
   "id": "38a0c708-c95b-4511-9d0c-44e76c41b1f9",
   "metadata": {},
   "source": [
    "The following function takes as a parameter the file we created (or another parquet file with the exact type of data encoded into it) and reads it in a list of dictionaries that can be used in the following.  It also calls the function to print the keys:"
   ]
  },
  {
   "cell_type": "code",
   "execution_count": 18,
   "id": "02122cd3-0432-431d-86b7-b3e8050daf57",
   "metadata": {},
   "outputs": [],
   "source": [
    "def readParquetToDict(filepath):\n",
    "    \"\"\"This function reads the parquet file where the data are stored and transforms the data in order to have a dictionary\n",
    "\n",
    "    Parameters:\n",
    "        -----------\n",
    "        filepath (string) : the path of the file that we want to read the data from\n",
    "\n",
    "    Returns:\n",
    "        ---------\n",
    "        A list of the dictionaries of the data (list[dict])\n",
    "\n",
    "    Notes:\n",
    "        --------\n",
    "\n",
    "        Install pyarrow to use this\n",
    "        Install and import pandas as pd\n",
    "\n",
    "        \"\"\"\n",
    "    file_path = str(filepath)\n",
    "    \n",
    "    loaded_data = pd.read_parquet(file_path, engine='pyarrow')\n",
    "    \n",
    "    data_dict = loaded_data.to_dict(orient=\"records\")\n",
    "    \n",
    "    printKeys(data_dict)\n",
    "    \n",
    "    return data_dict"
   ]
  },
  {
   "cell_type": "markdown",
   "id": "52352c3a-e0cf-49e1-824d-d4b410ee0251",
   "metadata": {},
   "source": [
    "Let's now use these reading functions to have a list of dictionaries (that should be the same as we created before):"
   ]
  },
  {
   "cell_type": "code",
   "execution_count": 19,
   "id": "6aa67b94-9fd4-4375-a105-117209ca9de0",
   "metadata": {},
   "outputs": [
    {
     "name": "stdout",
     "output_type": "stream",
     "text": [
      "param1: is the \"azimuthal\" parameter of the beam pattern\n",
      "\n",
      "param2: is the \"inclination\" parameter of the beam pattern\n",
      "\n",
      "param3: is the power parameter of the beam pattern\n",
      "\n",
      "hotspot pattern: is the pulse profile computed with the parameters\n",
      "\n",
      "rotation inclination: is the angle of inclination of the rotation axis\n",
      "\n",
      "rotation azimuth: is the azimuthal angle of the rotation axis\n",
      "\n",
      "magnetic colatitude: is the magnetic colatitude, describes the angle between the possible hotspots and the rotation axis\n",
      "\n",
      "shift: is the position of the hotspot around the rotation axis\n",
      "\n"
     ]
    }
   ],
   "source": [
    "loaded_data = readParquetToDict(filepath)"
   ]
  },
  {
   "cell_type": "markdown",
   "id": "cfd1793e-e62f-430b-96f5-c9b1849a4e35",
   "metadata": {},
   "source": [
    "*If you ran all the cells correctly, just above this line there should be the keys of the dictionary with a brief description of each*"
   ]
  },
  {
   "cell_type": "markdown",
   "id": "5d21253e-2cca-4f01-896c-889afb34f3cf",
   "metadata": {},
   "source": [
    "## Example of usage: fit and plot"
   ]
  },
  {
   "cell_type": "markdown",
   "id": "1e808037-7c00-4bdd-812e-5ca903775b9e",
   "metadata": {},
   "source": [
    "Now I would like to try to use these data after having read them. I believe this is very useful because one can understand how the data are stored and how they can be extrapolated. "
   ]
  },
  {
   "cell_type": "markdown",
   "id": "fe7de8fe-c4fe-4877-a975-93da56b6ebc1",
   "metadata": {},
   "source": [
    "The example will be a fitting to experimental data, with the program choosing the best fitting simulated parameters, printing them and plotting the graph containing both the experimental data and the best fitting simulated pulse profile."
   ]
  },
  {
   "cell_type": "markdown",
   "id": "55e7b6e7-7581-44f2-ad72-702f96c2672f",
   "metadata": {},
   "source": [
    "The following two functions were also described at the beginning and they are useful only as an **experimental example** to use as a comparison for our simulation data:"
   ]
  },
  {
   "cell_type": "code",
   "execution_count": 20,
   "id": "ded5ddd9-7383-451b-ac9d-b86461a72d87",
   "metadata": {},
   "outputs": [],
   "source": [
    "def normalise_weights(w1, w2):\n",
    "\n",
    "    wsum = w1 + w2\n",
    "    w1 = w1 / wsum\n",
    "    w2 = w2 / wsum\n",
    "    wsum = wsum / np.mean(wsum)\n",
    "    return w1, w2, wsum\n",
    "\n",
    "\n",
    "def decompositions():\n",
    "    \"\"\"This function creates the decomposition of the total pulse profile into two different pulse profiles coming\n",
    "    from the different poles from the experimental data\n",
    "\n",
    "    Return\n",
    "        -----------\n",
    "        d1, d2: The two experimental curves that define the decomposition in the two different contributing poles (numpy arrays)\"\"\"\n",
    "    d1 = np.array([2.089433657753390321e+02,2.194589299387001233e+02,2.242701956130024143e+02,2.215828113982570358e+02,2.119044080603044904e+02,1.896290164200222534e+02,1.699201994046265440e+02,1.256523129323831256e+02,8.503688265750899689e+01,7.872871603812254193e+01,6.991923027381139377e+01,5.683178911921619658e+01,3.124156755276437281e+01,7.269036823844857054e+01,6.021225567409459956e+01,3.283549153829007122e-05,2.070746335489954859e+01,2.039204294346190522e+02,4.840049429063090543e+02,7.172415178717548088e+02,8.874827811973464122e+02,9.764660867645188773e+02,9.541305245679710652e+02,8.215813339957139760e+02,6.190850039923557233e+02,4.598887253861233262e+02,3.712954485901983048e+02,3.156898180851563325e+02,2.666241611172789021e+02,2.256346741358247527e+02,2.103769883639451166e+02,2.078976085285444526e+02])\n",
    "    d2 = np.array([1.706203983036242562e+02,1.627295767828694579e+02,1.508354117504467524e+02,1.387866932644533904e+02,1.222486136182712357e+02,1.134912451761991292e+02,9.134073071527171805e+01,8.393452247999425708e+01,1.066817197404563586e+02,1.153710780759624868e+02,1.233759737954631532e+02,1.483167515129746903e+02,2.492913136389517490e+02,3.399179640856401079e+02,4.636740226352187051e+02,6.800307289423939210e+02,8.913740432455606424e+02,9.093974220853033330e+02,7.202968616231810302e+02,5.014408728270462916e+02,2.981560101312231836e+02,1.266512076523395081e+02,2.776344418581356877e+01,3.598816179894583911e+00,5.163147899177897671e+01,1.027343217254183969e+02,1.227055202846957513e+02,1.252671880914211329e+02,1.319053895669890153e+02,1.488350485237368162e+02,1.574525502093866010e+02,1.655530999612218181e+02])\n",
    "    d1, d2, dpp = normalise_weights(d1, d2) #All different normalisations\n",
    "    d1 *= dpp\n",
    "    d1 /= np.max(dpp)\n",
    "    d2 *= dpp\n",
    "    d2 /= np.max(dpp)\n",
    "    return d1, d2"
   ]
  },
  {
   "cell_type": "markdown",
   "id": "5eac9d6c-6d7e-4800-b099-0b5034eed0d7",
   "metadata": {},
   "source": [
    "Define a very high number as summa and get the experimental data to compare to"
   ]
  },
  {
   "cell_type": "code",
   "execution_count": 21,
   "id": "6ef2075b-d306-4f57-be0b-94c65e54f1d7",
   "metadata": {},
   "outputs": [],
   "source": [
    "summa = 100000000\n",
    "d1, d2 = decompositions()"
   ]
  },
  {
   "cell_type": "markdown",
   "id": "551993e9-d12e-4cc4-8761-92abf9fa14df",
   "metadata": {},
   "source": [
    "The comparison is now done with a naive *for cycle* that compares every hotspot pattern occurence in the data we simulated with the experimental d1 (or d2, it works just as well). It performs a subtraction between each point and sums all of the results. The lower the total sum of the differences and the best fitting will be the simulated dictionary taken into account. The best of all fitting is saved as a list index."
   ]
  },
  {
   "cell_type": "code",
   "execution_count": 22,
   "id": "ff91f83a-2ebd-4e73-be89-30cdf1b19e5c",
   "metadata": {},
   "outputs": [],
   "source": [
    "for i in range(len(loaded_data)):\n",
    "    diff = d1 - loaded_data[i][\"hotspot pattern\"]\n",
    "    somma = np.sum(np.abs(diff))\n",
    "    if np.abs(somma) < np.abs(summa):\n",
    "        summa = somma\n",
    "        ok = i"
   ]
  },
  {
   "cell_type": "markdown",
   "id": "7f92173d-aa78-4db3-8cee-3a73e09eac32",
   "metadata": {},
   "source": [
    "The core concept here is not the fitting process itself (I am sure there are way better methods) but it is important to note how to iterate on the data we have. The index *i* represents the index of the list, and for every instance in the list we extrapolate the hotspot pattern using a dictionary indexing."
   ]
  },
  {
   "cell_type": "markdown",
   "id": "5ac9ef08-522a-4e66-9580-9afe4372d29d",
   "metadata": {},
   "source": [
    "Now we have a good fitting, let's print the parameters that we found to be the fitting ones:"
   ]
  },
  {
   "cell_type": "code",
   "execution_count": 23,
   "id": "5bec1659-54f6-406f-a2e5-59e6eeb02e24",
   "metadata": {},
   "outputs": [
    {
     "name": "stdout",
     "output_type": "stream",
     "text": [
      "{'param1': 1.8849555921538759, 'param2': 0.6283185307179586, 'param3': 6.666666666666667, 'hotspot pattern': array([ 1.88177966e-01,  2.23304447e-01,  2.58136002e-01,  2.83790161e-01,\n",
      "        2.89524631e-01,  2.66984723e-01,  2.15774666e-01,  1.46896294e-01,\n",
      "        7.94433174e-02,  3.09385557e-02,  7.15113550e-03,  6.04311015e-04,\n",
      "        2.10630832e-06, -3.01634917e-07,  4.69047858e-04,  1.19985999e-02,\n",
      "        7.83525164e-02,  2.46678301e-01,  4.88061390e-01,  7.09863153e-01,\n",
      "        7.12928652e-01,  6.71364382e-01,  6.11643015e-01,  5.38945897e-01,\n",
      "        4.60805567e-01,  3.84938327e-01,  3.17476421e-01,  2.62035695e-01,\n",
      "        2.19993452e-01,  1.91048215e-01,  1.74265599e-01,  1.88177966e-01]), 'rotation inclination': -64.28571428571428, 'rotation azimuth': 114.0, 'magnetic colatitude': 67.5, 'shift': -3.141592653589793}\n"
     ]
    }
   ],
   "source": [
    "fit = loaded_data[ok]\n",
    "print(fit)"
   ]
  },
  {
   "cell_type": "markdown",
   "id": "54f4b411-1f2a-49dc-9a11-54bfbd9011ac",
   "metadata": {},
   "source": [
    "From the fitting dictionary we want to extrapolate the parameters, and to do so we just need the dictionary indexing, since the list indexing has been fixed with the fitting process (**ok** is the list index we are interested into):"
   ]
  },
  {
   "cell_type": "code",
   "execution_count": 24,
   "id": "949a0ed1-4fb2-4ed2-80be-29fd001a99a5",
   "metadata": {},
   "outputs": [],
   "source": [
    "param1 = fit[\"param1\"]\n",
    "param2 = fit[\"param2\"]\n",
    "param3 = fit[\"param3\"]\n",
    "rot_i = fit[\"rotation inclination\"]\n",
    "rot_a = fit[\"rotation azimuth\"]\n",
    "magnc = fit[\"magnetic colatitude\"]\n",
    "shift = fit[\"shift\"]"
   ]
  },
  {
   "cell_type": "markdown",
   "id": "05e8c5aa-8772-4508-9812-637ef80bf644",
   "metadata": {},
   "source": [
    "I believe that this example is useful on how to read and use the data, strongly highlighting the fact that in order to handle the data one has to deal with a list of dictionaries, and having a clear vision of the keys is fundamental in order to utilize the values."
   ]
  },
  {
   "cell_type": "markdown",
   "id": "cb1550c8-580d-492d-9d86-ff38c9cadfa5",
   "metadata": {},
   "source": [
    "### Plotting and showing the fit"
   ]
  },
  {
   "cell_type": "markdown",
   "id": "7f211319-b548-436a-8fc1-0f84cb4dc567",
   "metadata": {},
   "source": [
    "This last point only shows the results as a fit, checking that the fit works with the given experimental data."
   ]
  },
  {
   "cell_type": "markdown",
   "id": "3f527d54-c07b-4e19-87df-c9881e315fb4",
   "metadata": {},
   "source": [
    "Let's create a linspaced x axis and plot both the fit and the data. I also want to display on the plot the parameters we have extrapolated before from the fitting dictionary, with a small description:"
   ]
  },
  {
   "cell_type": "code",
   "execution_count": 25,
   "id": "c594aa71-dcf3-4895-b8e8-b0f582333f0a",
   "metadata": {},
   "outputs": [
    {
     "data": {
      "text/plain": [
       "Text(0.05, 0.95, '$param1$: 1.884956\\n$param2$: 0.628319\\n$param3:6.666667$\\nrotation inclination: -64.285714\\nrotation azimuth: 114.000000\\n$shift:-3.141593$')"
      ]
     },
     "execution_count": 25,
     "metadata": {},
     "output_type": "execute_result"
    },
    {
     "data": {
      "image/png": "[encoded data removed]",
      "text/plain": [
       "<Figure size 640x480 with 1 Axes>"
      ]
     },
     "metadata": {},
     "output_type": "display_data"
    }
   ],
   "source": [
    "x = np.linspace(0, 1, 32)\n",
    "plt.plot(x, fit[\"hotspot pattern\"])\n",
    "plt.plot(x, d1)\n",
    "textstr = '\\n'.join((\n",
    "        r'$param1$: %f' % (fit[\"param1\"]),\n",
    "        r'$param2$: %f' % (fit[\"param2\"]), r'$param3:%f$' % (fit[\"param3\"]),\n",
    "        r'rotation inclination: %f' % (fit[\"rotation inclination\"]),\n",
    "        r'rotation azimuth: %f' % (fit[\"rotation azimuth\"]), r'$shift:%f$' % (fit[\"shift\"])))\n",
    "\n",
    "plt.text(0.05, 0.95, textstr, transform=plt.gca().transAxes,\n",
    "             fontsize=8, verticalalignment='top', bbox=dict(facecolor='green', alpha=0.1))"
   ]
  },
  {
   "cell_type": "markdown",
   "id": "3404cf49-2e9a-48ba-85b2-7af0e30d3a8e",
   "metadata": {},
   "source": [
    "And finally show everything. The result I obtained, with 100000 data, is:"
   ]
  },
  {
   "attachments": {
    "8cafcb8f-fe38-4f18-b00b-cbfc6e9c11be.png": {
     "image/png": "[encoded data removed]"
    }
   },
   "cell_type": "markdown",
   "id": "be672418-da4e-4860-befc-2f78c79c3758",
   "metadata": {},
   "source": [
    "![fit_100000.png](attachment:8cafcb8f-fe38-4f18-b00b-cbfc6e9c11be.png)"
   ]
  },
  {
   "cell_type": "markdown",
   "id": "620f8e7c-4659-4005-a54e-8b58a615a42f",
   "metadata": {},
   "source": [
    "## Example of Usage 2: get pulse profile from input parameters"
   ]
  },
  {
   "cell_type": "markdown",
   "id": "cb594e20-291c-4e8e-aece-d7233cbaa062",
   "metadata": {},
   "source": [
    "In the following example I want to show how one can do \"the opposite\" thing as before. In the previous example we were starting from a pulse profile to get the best fitting parameters; now we will start from input parameters in order to query the dataset and get the closest pulse profile to these parameters."
   ]
  },
  {
   "cell_type": "markdown",
   "id": "5e529090-1cc8-41f0-aaac-bfc02649747b",
   "metadata": {},
   "source": [
    "Let's start defining the input parameters (these are random values, one can play around with them and check that the code works):"
   ]
  },
  {
   "cell_type": "code",
   "execution_count": 26,
   "id": "5196a0f0-7505-42de-9892-d761378fd908",
   "metadata": {},
   "outputs": [],
   "source": [
    "rot_i_query = -56\n",
    "rot_a_query = 110\n",
    "magnc_query = 60\n",
    "p1_query = 2.76\n",
    "p2_query = 0.5\n",
    "p3_query = 4\n",
    "shift_query = -3.14"
   ]
  },
  {
   "cell_type": "markdown",
   "id": "d86de7e9-9f61-4235-a8c9-bca01a9b9983",
   "metadata": {},
   "source": [
    "Now let us read again the data with the function described before (section 5):"
   ]
  },
  {
   "cell_type": "code",
   "execution_count": 27,
   "id": "8a81a3cd-011d-4696-8adc-69a0480e9417",
   "metadata": {},
   "outputs": [
    {
     "name": "stdout",
     "output_type": "stream",
     "text": [
      "param1: is the \"azimuthal\" parameter of the beam pattern\n",
      "\n",
      "param2: is the \"inclination\" parameter of the beam pattern\n",
      "\n",
      "param3: is the power parameter of the beam pattern\n",
      "\n",
      "hotspot pattern: is the pulse profile computed with the parameters\n",
      "\n",
      "rotation inclination: is the angle of inclination of the rotation axis\n",
      "\n",
      "rotation azimuth: is the azimuthal angle of the rotation axis\n",
      "\n",
      "magnetic colatitude: is the magnetic colatitude, describes the angle between the possible hotspots and the rotation axis\n",
      "\n",
      "shift: is the position of the hotspot around the rotation axis\n",
      "\n"
     ]
    }
   ],
   "source": [
    "loaded_data_query = readParquetToDict(filepath)"
   ]
  },
  {
   "cell_type": "markdown",
   "id": "b56e15ce-3e0d-473f-b002-66bc58be6d30",
   "metadata": {},
   "source": [
    "Once we obtained the keys from the dataset, let's save the input data in a dictionary with the exact same keys:"
   ]
  },
  {
   "cell_type": "code",
   "execution_count": 28,
   "id": "3c9457e8-640d-46cc-a7a7-9bf976904564",
   "metadata": {},
   "outputs": [],
   "source": [
    "query = {\"rotation inclination\": rot_i_query, \"rotation azimuth\": rot_a_query, \"magnetic colatitude\": magnc_query, \"param1\": p1_query, \"param2\": p2_query, \"param3\": p3_query, \"shift\": shift_query}"
   ]
  },
  {
   "cell_type": "markdown",
   "id": "48d32bc7-416c-4d95-81d8-43026b54ae58",
   "metadata": {},
   "source": [
    "Of course the key \"hotspot pattern\" is not included here because it is the result we will obtain in the following."
   ]
  },
  {
   "cell_type": "markdown",
   "id": "ae97eed5-fea9-4ed6-8d75-b72fee4c4113",
   "metadata": {},
   "source": [
    "The following for loops can look slightly complicated but in reality we are just comparing, key by key, all the data we have simulated at the earlier steps with the input data. \n",
    "\n",
    "For each key is saved the value of the corresponding dataset parameter that is the closest to the input one. All the datasets that do not have that value are eliminated from the list. The goal is to slowly, key by key, filter out the values that do not fit with our query. Proceeding in this way, the list will become smaller and smaller until we get only one dictionary left in the list, that is the one which contains the values closest to the asked ones."
   ]
  },
  {
   "cell_type": "markdown",
   "id": "d766d894-98d7-4cbf-940c-bacb38a0c26a",
   "metadata": {},
   "source": [
    "Once again, this is probably not the best method to find the value of the pulse profile, but it is interesting and instructive to see how the data we have read work: we need an iteration both on the keys of the singular dictionaries and an iteration over all the elements of the list (every element is a dictionary and we read one key at every outer loop). I believe that reading and understanding both examples is fundamental in order to gain a better understanding on how to handle and utilize the data."
   ]
  },
  {
   "cell_type": "code",
   "execution_count": 29,
   "id": "bb2558ba-73e0-493f-a662-9f85a823a2c4",
   "metadata": {},
   "outputs": [
    {
     "name": "stdout",
     "output_type": "stream",
     "text": [
      "The closest simulated data to the input parameters is: [{'param1': 1.8849555921538759, 'param2': 0.6283185307179586, 'param3': 6.666666666666667, 'hotspot pattern': array([ 1.88177966e-01,  2.23304447e-01,  2.58136002e-01,  2.83790161e-01,\n",
      "        2.89524631e-01,  2.66984723e-01,  2.15774666e-01,  1.46896294e-01,\n",
      "        7.94433174e-02,  3.09385557e-02,  7.15113550e-03,  6.04311015e-04,\n",
      "        2.10630832e-06, -3.01634917e-07,  4.69047858e-04,  1.19985999e-02,\n",
      "        7.83525164e-02,  2.46678301e-01,  4.88061390e-01,  7.09863153e-01,\n",
      "        7.12928652e-01,  6.71364382e-01,  6.11643015e-01,  5.38945897e-01,\n",
      "        4.60805567e-01,  3.84938327e-01,  3.17476421e-01,  2.62035695e-01,\n",
      "        2.19993452e-01,  1.91048215e-01,  1.74265599e-01,  1.88177966e-01]), 'rotation inclination': -64.28571428571428, 'rotation azimuth': 114.0, 'magnetic colatitude': 67.5, 'shift': -3.141592653589793}]\n"
     ]
    }
   ],
   "source": [
    "\n",
    "filtered_data_query = loaded_data_query.copy()\n",
    "\n",
    "# Iterate over each key in the first dictionary, excluding \"hotspot pattern\"\n",
    "for key in list(loaded_data_query[0].keys()):\n",
    "    if key != \"hotspot pattern\":\n",
    "        minimo_diff = float('inf')\n",
    "        closest_element = None\n",
    "\n",
    "        # Find the element with the minimum difference for the current key\n",
    "        for element in filtered_data_query:\n",
    "            value = element[key] - query[key]\n",
    "            if abs(value) < minimo_diff:\n",
    "                minimo_diff = abs(value)\n",
    "                closest_element = element\n",
    "\n",
    "        # Filter the list to keep only elements with the minimum value for the current key\n",
    "        filtered_data_query = [element for element in filtered_data_query if element[key] == closest_element[key]]\n",
    "\n",
    "        # Update the loaded_data_query to reflect the filtered data for the next iteration\n",
    "        loaded_data_query = filtered_data_query\n",
    "\n",
    "# Print the filtered data\n",
    "print(\"The closest simulated data to the input parameters is:\", loaded_data_query)"
   ]
  },
  {
   "cell_type": "markdown",
   "id": "9dfcb3d6-fb61-4c9d-9d94-5a6b48b24df8",
   "metadata": {},
   "source": [
    "As one can see from this, the values are not exactly the same but they are the closest possible consider the dataset we created. Obviously with a bigger dataset the values will be closer."
   ]
  },
  {
   "cell_type": "markdown",
   "id": "14729642-9481-45b6-8d98-86fe4ccb4a32",
   "metadata": {},
   "source": [
    "Now let's plot the pulse profile that we obtained with our query:"
   ]
  },
  {
   "cell_type": "code",
   "execution_count": 30,
   "id": "7a896713-7870-466a-9536-f890cc5bedee",
   "metadata": {},
   "outputs": [
    {
     "data": {
      "text/plain": [
       "Text(0.05, 0.95, '$param1$: 1.884956\\n$param2$: 0.628319\\n$param3:6.666667$\\nrotation inclination: -64.285714\\nrotation azimuth: 114.000000\\n$shift:-3.141593$')"
      ]
     },
     "execution_count": 30,
     "metadata": {},
     "output_type": "execute_result"
    },
    {
     "data": {
      "image/png": "[encoded data removed]",
      "text/plain": [
       "<Figure size 640x480 with 1 Axes>"
      ]
     },
     "metadata": {},
     "output_type": "display_data"
    }
   ],
   "source": [
    "x = np.linspace(0, 1, 32)\n",
    "plt.plot(x, loaded_data_query[0][\"hotspot pattern\"])\n",
    "textstr = '\\n'.join((\n",
    "        r'$param1$: %f' % (loaded_data_query[0][\"param1\"]),\n",
    "        r'$param2$: %f' % (loaded_data_query[0][\"param2\"]), r'$param3:%f$' % (loaded_data_query[0][\"param3\"]),\n",
    "        r'rotation inclination: %f' % (loaded_data_query[0][\"rotation inclination\"]),\n",
    "        r'rotation azimuth: %f' % (loaded_data_query[0][\"rotation azimuth\"]), r'$shift:%f$' % (loaded_data_query[0][\"shift\"])))\n",
    "plt.title(\"Closest simulated pulse pattern to the given input parameters\")\n",
    "plt.text(0.05, 0.95, textstr, transform=plt.gca().transAxes,\n",
    "             fontsize=8, verticalalignment='top', bbox=dict(facecolor='green', alpha=0.1))"
   ]
  }
 ],
 "metadata": {
  "kernelspec": {
   "display_name": "Python 3 (ipykernel)",
   "language": "python",
   "name": "python3"
  },
  "language_info": {
   "codemirror_mode": {
    "name": "ipython",
    "version": 3
   },
   "file_extension": ".py",
   "mimetype": "text/x-python",
   "name": "python",
   "nbconvert_exporter": "python",
   "pygments_lexer": "ipython3",
   "version": "3.11.7"
  }
 },
 "nbformat": 4,
 "nbformat_minor": 5
}
